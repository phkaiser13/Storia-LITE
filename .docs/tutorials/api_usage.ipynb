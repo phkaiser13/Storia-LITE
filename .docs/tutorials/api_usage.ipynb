{
 "cells": [
  {
   "cell_type": "markdown",
   "metadata": {},
   "source": [
    "# StorIA-LITE API Usage Guide\n",
    "\n",
    "This Jupyter Notebook provides a hands-on guide to interacting with the StorIA-LITE backend API. We will walk through the common workflows, from registering and authenticating a user to performing CRUD (Create, Read, Update, Delete) operations on inventory items.\n",
    "\n",
    "**Prerequisites:**\n",
    "1. The StorIA-LITE backend server must be running (see the main `README.md` for instructions).\n",
    "2. You need to have Python installed with the `requests` library (`pip install requests`)."
   ]
  },
  {
   "cell_type": "markdown",
   "metadata": {},
   "source": [
    "## Step 1: Setup and Configuration\n",
    "\n",
    "First, let's import the necessary libraries and define the base URL for our API. If you are running the server on a different port, make sure to update the `BASE_URL` variable."
   ]
  },
  {
   "cell_type": "code",
   "execution_count": null,
   "metadata": {},
   "outputs": [],
   "source": [
    "import requests\n",
    "import json\n",
    "from datetime import datetime, timedelta\n",
    "import random\n",
    "import string\n",
    "\n",
    "# The base URL of the running API\n",
    "BASE_URL = \"https://localhost:7123/api\"\n",
    "\n",
    "# We will store the JWT token here after login\n",
    "auth_token = None\n",
    "\n",
    "# Helper function to print JSON responses nicely\n",
    "def print_json(data):\n",
    "    print(json.dumps(data, indent=2))\n",
    "\n",
    "# Helper to generate random strings for user/item creation to ensure uniqueness\n",
    "def random_string(length=8):\n",
    "    return ''.join(random.choices(string.ascii_lowercase + string.digits, k=length))"
   ]
  },
  {
   "cell_type": "markdown",
   "metadata": {},
   "source": [
    "## Step 2: User Registration\n",
    "\n",
    "Before we can do anything that requires authentication, we need to register a new user. We'll create a user with the `Almoxarife` role, which has permissions to manage items."
   ]
  },
  {
   "cell_type": "code",
   "execution_count": null,
   "metadata": {},
   "outputs": [],
   "source": [
    "registration_url = f\"{BASE_URL}/Auth/register\"\n",
    "\n",
    "# Generate a unique email for the new user\n",
    "unique_email = f\"testuser_{random_string()}@example.com\"\n",
    "\n",
    "new_user = {\n",
    "    \"fullName\": \"Test User\",\n",
    "    \"email\": unique_email,\n",
    "    \"password\": \"Password123!\",\n",
    "    \"role\": \"Almoxarife\" # Other roles: RH, Gestor\n",
    "}\n",
    "\n",
    "print(f\"Attempting to register user: {unique_email}\")\n",
    "response = requests.post(registration_url, json=new_user, verify=False) # verify=False for development with self-signed certs\n",
    "\n",
    "if response.status_code == 201:\n",
    "    print(\"✅ User registered successfully!\")\n",
    "    print_json(response.json())\n",
    "else:\n",
    "    print(f\"❌ User registration failed with status code: {response.status_code}\")\n",
    "    print(response.text)"
   ]
  },
  {
   "cell_type": "markdown",
   "metadata": {},
   "source": [
    "## Step 3: User Login\n",
    "\n",
    "Now that we have a user, let's log in to get a JSON Web Token (JWT). This token is required to access protected endpoints."
   ]
  },
  {
   "cell_type": "code",
   "execution_count": null,
   "metadata": {},
   "outputs": [],
   "source": [
    "login_url = f\"{BASE_URL}/Auth/login\"\n",
    "\n",
    "login_credentials = {\n",
    "    \"email\": new_user['email'],\n",
    "    \"password\": new_user['password']\n",
    "}\n",
    "\n",
    "print(f\"Attempting to log in as: {login_credentials['email']}\")\n",
    "response = requests.post(login_url, json=login_credentials, verify=False)\n",
    "\n",
    "if response.status_code == 200:\n",
    "    print(\"✅ Login successful!\")\n",
    "    auth_data = response.json()\n",
    "    auth_token = auth_data.get('token')\n",
    "    print(\"--- Authentication Token ---\")\n",
    "    print(auth_token)\n",
    "else:\n",
    "    print(f\"❌ Login failed with status code: {response.status_code}\")\n",
    "    print(response.text)"
   ]
  },
  {
   "cell_type": "markdown",
   "metadata": {},
   "source": [
    "## Step 4: Creating a New Item\n",
    "\n",
    "With our `auth_token`, we can now access protected endpoints. Let's create a new inventory item. We need to include the token in the `Authorization` header of our request."
   ]
  },
  {
   "cell_type": "code",
   "execution_count": null,
   "metadata": {},
   "outputs": [],
   "source": [
    "items_url = f\"{BASE_URL}/Items\"\n",
    "\n",
    "headers = {\n",
    "    \"Authorization\": f\"Bearer {auth_token}\"\n",
    "}\n",
    "\n",
    "new_item = {\n",
    "    \"name\": f\"Safety Helmet - {random_string(4)}\",\n",
    "    \"sku\": f\"SKU-{random_string(8)}\",\n",
    "    \"description\": \"A durable and high-quality safety helmet.\",\n",
    "    \"category\": \"PPE\",\n",
    "    \"initialQuantity\": 100,\n",
    "    \"expiryDate\": (datetime.now() + timedelta(days=365)).isoformat()\n",
    "}\n",
    "\n",
    "print(\"Attempting to create a new item...\")\n",
    "response = requests.post(items_url, json=new_item, headers=headers, verify=False)\n",
    "\n",
    "if response.status_code == 201:\n",
    "    print(\"✅ Item created successfully!\")\n",
    "    created_item = response.json()\n",
    "    item_id = created_item.get('id') # Save the ID for later steps\n",
    "    print_json(created_item)\n",
    "else:\n",
    "    print(f\"❌ Item creation failed with status code: {response.status_code}\")\n",
    "    print(response.text)"
   ]
  },
  {
   "cell_type": "markdown",
   "metadata": {},
   "source": [
    "## Step 5: Retrieving Items\n",
    "\n",
    "Let's fetch a list of all items to see the one we just created. This endpoint supports pagination."
   ]
  },
  {
   "cell_type": "code",
   "execution_count": null,
   "metadata": {},
   "outputs": [],
   "source": [
    "print(\"Attempting to retrieve all items...\")\n",
    "# Let's get the first page with 5 items per page\n",
    "query_params = {\"pageNumber\": 1, \"pageSize\": 5}\n",
    "\n",
    "response = requests.get(items_url, headers=headers, params=query_params, verify=False)\n",
    "\n",
    "if response.status_code == 200:\n",
    "    print(\"✅ Items retrieved successfully!\")\n",
    "    print_json(response.json())\n",
    "else:\n",
    "    print(f\"❌ Failed to retrieve items. Status code: {response.status_code}\")\n",
    "    print(response.text)"
   ]
  },
  {
   "cell_type": "markdown",
   "metadata": {},
   "source": [
    "## Step 6: Updating an Item\n",
    "\n",
    "Now, let's update the description and stock quantity of the item we created earlier."
   ]
  },
  {
   "cell_type": "code",
   "execution_count": null,
   "metadata": {},
   "outputs": [],
   "source": [
    "update_item_url = f\"{items_url}/{item_id}\"\n",
    "\n",
    "update_payload = {\n",
    "    \"description\": \"An updated, high-visibility safety helmet.\",\n",
    "    \"stockQuantity\": 150\n",
    "}\n",
    "\n",
    "print(f\"Attempting to update item with ID: {item_id}\")\n",
    "response = requests.put(update_item_url, json=update_payload, headers=headers, verify=False)\n",
    "\n",
    "if response.status_code == 204:\n",
    "    print(\"✅ Item updated successfully!\")\n",
    "    # Let's fetch the item again to verify the changes\n",
    "    verify_response = requests.get(update_item_url, headers=headers, verify=False)\n",
    "    if verify_response.status_code == 200:\n",
    "        print(\"--- Verified Item Data ---\")\n",
    "        print_json(verify_response.json())\n",
    "else:\n",
    "    print(f\"❌ Failed to update item. Status code: {response.status_code}\")\n",
    "    print(response.text)"
   ]
  },
  {
   "cell_type": "markdown",
   "metadata": {},
   "source": [
    "## Step 7: Deleting an Item\n",
    "\n",
    "Finally, let's clean up by deleting the item we created. Note that for this to work, the user's role must have delete permissions (e.g., `RH`). If our user `Almoxarife` doesn't have this permission, this request will fail with a `403 Forbidden` status."
   ]
  },
  {
   "cell_type": "code",
   "execution_count": null,
   "metadata": {},
   "outputs": [],
   "source": [
    "# To test deletion, you might need to register/login as a user with the 'RH' role.\n",
    "# For this example, we'll assume the current user might not have permission.\n",
    "\n",
    "delete_item_url = f\"{items_url}/{item_id}\"\n",
    "\n",
    "print(f\"Attempting to delete item with ID: {item_id}\")\n",
    "response = requests.delete(delete_item_url, headers=headers, verify=False)\n",
    "\n",
    "if response.status_code == 204:\n",
    "    print(\"✅ Item deleted successfully!\")\n",
    "elif response.status_code == 403:\n",
    "    print(\"⚠️ Could not delete item. Status code 403: Forbidden. The current user's role likely lacks permission.\")\n",
    "else:\n",
    "    print(f\"❌ Failed to delete item. Status code: {response.status_code}\")\n",
    "    print(response.text)"
   ]
  }
 ],
 "metadata": {
  "kernelspec": {
   "display_name": "Python 3",
   "language": "python",
   "name": "python3"
  },
  "language_info": {
   "codemirror_mode": {
    "name": "ipython",
    "version": 3
   },
   "file_extension": ".py",
   "mimetype": "text/x-python",
   "name": "python",
   "nbconvert_exporter": "python",
   "pygments_lexer": "ipython3",
   "version": "3.9.7"
  }
 },
 "nbformat": 4,
 "nbformat_minor": 4
}
